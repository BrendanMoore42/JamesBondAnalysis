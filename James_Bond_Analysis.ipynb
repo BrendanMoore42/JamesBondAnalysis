{
 "cells": [
  {
   "cell_type": "markdown",
   "metadata": {},
   "source": [
    "Looking at the sentiment values for every james bond movie. OH baby.\n",
    "\n",
    "Checks overall sentiment over time in each movie holy shit great idea.\n",
    "\n",
    "Set srt file to dataframe, analyse dataframe.\n"
   ]
  },
  {
   "cell_type": "code",
   "execution_count": 71,
   "metadata": {},
   "outputs": [],
   "source": [
    "import re \n",
    "import sys\n",
    "import time\n",
    "import selenium\n",
    "import numpy as np\n",
    "import pandas as pd\n",
    "from PIL import Image\n",
    "\n",
    "from selenium import webdriver\n",
    "from selenium.webdriver.common.by import By\n",
    "from selenium.webdriver.common.keys import Keys\n",
    "from selenium.webdriver.chrome.options import Options\n",
    "from selenium.webdriver.support.ui import WebDriverWait\n",
    "from selenium.webdriver.support import expected_conditions as EC\n",
    "\n",
    "import matplotlib\n",
    "matplotlib.use(\"TkAgg\")\n",
    "import matplotlib.pyplot as plt\n",
    "\n",
    "from collections import Counter\n",
    "from wordcloud import WordCloud, STOPWORDS"
   ]
  },
  {
   "cell_type": "code",
   "execution_count": 72,
   "metadata": {},
   "outputs": [
    {
     "name": "stdout",
     "output_type": "stream",
     "text": [
      "['dr. no', 'from russia with love', 'goldfinger', 'thunderball', 'casino royale', 'you only live twice', \"on her majesty's secret service\", 'diamonds are forever', 'live and let die', 'the man with the golden gun', 'the spy who loved me', 'moonraker', 'for your eyes only', 'octopussy', 'never say never again', 'a view to a kill', 'the living daylights', 'licence to kill', 'goldeneye', 'tomorrow never dies', 'the world is not enough', 'die another day', 'casino royale', 'quantum of solace', 'skyfall', 'spectre']\n"
     ]
    }
   ],
   "source": [
    "df = pd.read_html('https://en.wikipedia.org/wiki/List_of_James_Bond_films')\n",
    "jb_movies = df[0][2:-2][0].values\n",
    "jb_flicks = []\n",
    "\n",
    "for j in jb_movies:\n",
    "    jb_flicks.append(j.replace(\"[N]\", '').lower())\n",
    "\n",
    "print(jb_flicks)"
   ]
  },
  {
   "cell_type": "code",
   "execution_count": 76,
   "metadata": {},
   "outputs": [
    {
     "ename": "WebDriverException",
     "evalue": "Message: '' executable may have wrong permissions. Please see https://sites.google.com/a/chromium.org/chromedriver/home\n",
     "output_type": "error",
     "traceback": [
      "\u001b[1;31m---------------------------------------------------------------------------\u001b[0m",
      "\u001b[1;31mPermissionError\u001b[0m                           Traceback (most recent call last)",
      "\u001b[1;32m~\\Anaconda3\\lib\\site-packages\\selenium\\webdriver\\common\\service.py\u001b[0m in \u001b[0;36mstart\u001b[1;34m(self)\u001b[0m\n\u001b[0;32m     75\u001b[0m                                             \u001b[0mstderr\u001b[0m\u001b[1;33m=\u001b[0m\u001b[0mself\u001b[0m\u001b[1;33m.\u001b[0m\u001b[0mlog_file\u001b[0m\u001b[1;33m,\u001b[0m\u001b[1;33m\u001b[0m\u001b[0m\n\u001b[1;32m---> 76\u001b[1;33m                                             stdin=PIPE)\n\u001b[0m\u001b[0;32m     77\u001b[0m         \u001b[1;32mexcept\u001b[0m \u001b[0mTypeError\u001b[0m\u001b[1;33m:\u001b[0m\u001b[1;33m\u001b[0m\u001b[0m\n",
      "\u001b[1;32m~\\Anaconda3\\lib\\subprocess.py\u001b[0m in \u001b[0;36m__init__\u001b[1;34m(self, args, bufsize, executable, stdin, stdout, stderr, preexec_fn, close_fds, shell, cwd, env, universal_newlines, startupinfo, creationflags, restore_signals, start_new_session, pass_fds, encoding, errors)\u001b[0m\n\u001b[0;32m    708\u001b[0m                                 \u001b[0merrread\u001b[0m\u001b[1;33m,\u001b[0m \u001b[0merrwrite\u001b[0m\u001b[1;33m,\u001b[0m\u001b[1;33m\u001b[0m\u001b[0m\n\u001b[1;32m--> 709\u001b[1;33m                                 restore_signals, start_new_session)\n\u001b[0m\u001b[0;32m    710\u001b[0m         \u001b[1;32mexcept\u001b[0m\u001b[1;33m:\u001b[0m\u001b[1;33m\u001b[0m\u001b[0m\n",
      "\u001b[1;32m~\\Anaconda3\\lib\\subprocess.py\u001b[0m in \u001b[0;36m_execute_child\u001b[1;34m(self, args, executable, preexec_fn, close_fds, pass_fds, cwd, env, startupinfo, creationflags, shell, p2cread, p2cwrite, c2pread, c2pwrite, errread, errwrite, unused_restore_signals, unused_start_new_session)\u001b[0m\n\u001b[0;32m    996\u001b[0m                                          \u001b[0mos\u001b[0m\u001b[1;33m.\u001b[0m\u001b[0mfspath\u001b[0m\u001b[1;33m(\u001b[0m\u001b[0mcwd\u001b[0m\u001b[1;33m)\u001b[0m \u001b[1;32mif\u001b[0m \u001b[0mcwd\u001b[0m \u001b[1;32mis\u001b[0m \u001b[1;32mnot\u001b[0m \u001b[1;32mNone\u001b[0m \u001b[1;32melse\u001b[0m \u001b[1;32mNone\u001b[0m\u001b[1;33m,\u001b[0m\u001b[1;33m\u001b[0m\u001b[0m\n\u001b[1;32m--> 997\u001b[1;33m                                          startupinfo)\n\u001b[0m\u001b[0;32m    998\u001b[0m             \u001b[1;32mfinally\u001b[0m\u001b[1;33m:\u001b[0m\u001b[1;33m\u001b[0m\u001b[0m\n",
      "\u001b[1;31mPermissionError\u001b[0m: [WinError 5] Access is denied",
      "\nDuring handling of the above exception, another exception occurred:\n",
      "\u001b[1;31mWebDriverException\u001b[0m                        Traceback (most recent call last)",
      "\u001b[1;32m<ipython-input-76-8e570777edce>\u001b[0m in \u001b[0;36m<module>\u001b[1;34m()\u001b[0m\n\u001b[0;32m      5\u001b[0m \u001b[0moptions\u001b[0m\u001b[1;33m.\u001b[0m\u001b[0madd_argument\u001b[0m\u001b[1;33m(\u001b[0m\u001b[1;34m\"download.default_directory=C:/Users/B/PycharmProjects/devil_town/srts\"\u001b[0m\u001b[1;33m)\u001b[0m\u001b[1;33m\u001b[0m\u001b[0m\n\u001b[0;32m      6\u001b[0m \u001b[0mdriver_path\u001b[0m \u001b[1;33m=\u001b[0m \u001b[1;34m'C:/Users/B/PycharmProjects/devil_town/'\u001b[0m\u001b[1;33m\u001b[0m\u001b[0m\n\u001b[1;32m----> 7\u001b[1;33m \u001b[0mdriver\u001b[0m \u001b[1;33m=\u001b[0m \u001b[0mwebdriver\u001b[0m\u001b[1;33m.\u001b[0m\u001b[0mChrome\u001b[0m\u001b[1;33m(\u001b[0m\u001b[0mdriver_path\u001b[0m\u001b[1;33m)\u001b[0m\u001b[1;33m\u001b[0m\u001b[0m\n\u001b[0m\u001b[0;32m      8\u001b[0m \u001b[1;33m\u001b[0m\u001b[0m\n\u001b[0;32m      9\u001b[0m \u001b[1;32mdef\u001b[0m \u001b[0mrandom_sleep\u001b[0m\u001b[1;33m(\u001b[0m\u001b[0mmultiplier\u001b[0m\u001b[1;33m=\u001b[0m\u001b[1;36m1\u001b[0m\u001b[1;33m,\u001b[0m \u001b[0mverbose\u001b[0m\u001b[1;33m=\u001b[0m\u001b[1;32mFalse\u001b[0m\u001b[1;33m)\u001b[0m\u001b[1;33m:\u001b[0m\u001b[1;33m\u001b[0m\u001b[0m\n",
      "\u001b[1;32m~\\Anaconda3\\lib\\site-packages\\selenium\\webdriver\\chrome\\webdriver.py\u001b[0m in \u001b[0;36m__init__\u001b[1;34m(self, executable_path, port, options, service_args, desired_capabilities, service_log_path, chrome_options, keep_alive)\u001b[0m\n\u001b[0;32m     71\u001b[0m             \u001b[0mservice_args\u001b[0m\u001b[1;33m=\u001b[0m\u001b[0mservice_args\u001b[0m\u001b[1;33m,\u001b[0m\u001b[1;33m\u001b[0m\u001b[0m\n\u001b[0;32m     72\u001b[0m             log_path=service_log_path)\n\u001b[1;32m---> 73\u001b[1;33m         \u001b[0mself\u001b[0m\u001b[1;33m.\u001b[0m\u001b[0mservice\u001b[0m\u001b[1;33m.\u001b[0m\u001b[0mstart\u001b[0m\u001b[1;33m(\u001b[0m\u001b[1;33m)\u001b[0m\u001b[1;33m\u001b[0m\u001b[0m\n\u001b[0m\u001b[0;32m     74\u001b[0m \u001b[1;33m\u001b[0m\u001b[0m\n\u001b[0;32m     75\u001b[0m         \u001b[1;32mtry\u001b[0m\u001b[1;33m:\u001b[0m\u001b[1;33m\u001b[0m\u001b[0m\n",
      "\u001b[1;32m~\\Anaconda3\\lib\\site-packages\\selenium\\webdriver\\common\\service.py\u001b[0m in \u001b[0;36mstart\u001b[1;34m(self)\u001b[0m\n\u001b[0;32m     86\u001b[0m                 raise WebDriverException(\n\u001b[0;32m     87\u001b[0m                     \"'%s' executable may have wrong permissions. %s\" % (\n\u001b[1;32m---> 88\u001b[1;33m                         os.path.basename(self.path), self.start_error_message)\n\u001b[0m\u001b[0;32m     89\u001b[0m                 )\n\u001b[0;32m     90\u001b[0m             \u001b[1;32melse\u001b[0m\u001b[1;33m:\u001b[0m\u001b[1;33m\u001b[0m\u001b[0m\n",
      "\u001b[1;31mWebDriverException\u001b[0m: Message: '' executable may have wrong permissions. Please see https://sites.google.com/a/chromium.org/chromedriver/home\n"
     ]
    }
   ],
   "source": [
    "#set selenium headless \n",
    "options = Options()\n",
    "# options.add_argument('--headless')\n",
    "# options.add_argument('--disable-gpu')\n",
    "options.add_argument(\"download.default_directory=C:/Users/B/PycharmProjects/devil_town/srts\")\n",
    "driver_path = 'C:/Users/B/PycharmProjects/devil_town/'\n",
    "driver = webdriver.Chrome(driver_path)\n",
    "\n",
    "def random_sleep(multiplier=1, verbose=False):\n",
    "    \"\"\"\n",
    "    This function goes between various actions to give the browser time to load and\n",
    "    prepare html for parsing.\n",
    "    :multiplier: Extends time by number, default is 1\n",
    "    :verbose: if True function will display how long it's sleeping\n",
    "    \"\"\"\n",
    "    i = np.random.randint(2, 6)\n",
    "    i = i * multiplier\n",
    "    if verbose:\n",
    "        print(f'sleeping for {i} seconds')\n",
    "    time.sleep(i)\n",
    "\n",
    "def get_bond_srts():\n",
    "    # get bond movies\n",
    "    df = pd.read_html('https://en.wikipedia.org/wiki/List_of_James_Bond_films')\n",
    "    jb_movies = df[0][2:-2][0].values\n",
    "    jb_flicks = []\n",
    "\n",
    "    #set driver\n",
    "    # Chrome(), Safari(), Firefox()...\n",
    "    print('Preparing driver...\\n')\n",
    "    driver = webdriver.Chrome()\n",
    "    \n",
    "    #get titles and search subtitle page for english download link\n",
    "    for j, b in zip(jb_movies, jb_movies):\n",
    "        jb_flicks.append(j.replace(\"[N]\", '').lower())\n",
    "        #make new link for english subs\n",
    "        for b in jb_flicks:  \n",
    "            print('Starting...')\n",
    "            j_main = 'https://www.opensubtitles.org/en/search2/sublanguageid-all/moviename-007+james+bond+collection'\n",
    "            j_link = driver.find_element_by_xpath(f'//button[contains(text(), \"{movie}\")]').click()\n",
    "            \n",
    "            b_url = b.replace(\" \", \"-\").replace(\".\", '') + \"-en\"\n",
    "            print(f'Downloading: {b_url}')\n",
    "            random_sleep(multiplier=0.1)\n",
    "            b_link = driver.find_element_by_xpath(f'//button[contains(text(), \"{b_url}\")]').click()\n",
    "            random_sleep(verbose=True)\n",
    "    print('..Done?')\n",
    "        \n",
    "    print('Done!')\n",
    "    driver.close()\n",
    "    \n",
    "get_bond_srts()"
   ]
  },
  {
   "cell_type": "code",
   "execution_count": null,
   "metadata": {},
   "outputs": [],
   "source": []
  }
 ],
 "metadata": {
  "kernelspec": {
   "display_name": "Python 3",
   "language": "python",
   "name": "python3"
  },
  "language_info": {
   "codemirror_mode": {
    "name": "ipython",
    "version": 3
   },
   "file_extension": ".py",
   "mimetype": "text/x-python",
   "name": "python",
   "nbconvert_exporter": "python",
   "pygments_lexer": "ipython3",
   "version": "3.6.5"
  }
 },
 "nbformat": 4,
 "nbformat_minor": 2
}
